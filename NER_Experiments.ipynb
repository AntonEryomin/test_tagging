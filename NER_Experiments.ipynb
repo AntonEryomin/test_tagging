{
 "cells": [
  {
   "cell_type": "code",
   "execution_count": 28,
   "id": "b5507751-cf65-41e0-b0e6-c372d01b078e",
   "metadata": {},
   "outputs": [],
   "source": [
    "from transformers import AutoTokenizer, AutoModelForTokenClassification\n",
    "from transformers import pipeline\n",
    "from flair.data import Sentence\n",
    "from flair.nn import Classifier\n",
    "from nltk.tokenize import sent_tokenize\n",
    "from flair.visual import ner_html\n",
    "\n",
    "from collections import Counter"
   ]
  },
  {
   "cell_type": "code",
   "execution_count": 71,
   "id": "85a55a26-1a6c-46d1-bcac-ab9d734c9458",
   "metadata": {},
   "outputs": [],
   "source": [
    "# Первый тест, большой текст\n",
    "\n",
    "huge_text = \"\"\"\n",
    "China's anti-fraud watchdog has accused chip tycoon Zhao Weiguo of corruption, in the latest sign of trouble faced by the country's semiconductor industry.\n",
    "\n",
    "Mr Zhao is the former chairman of computer chipmaker Tsinghua Unigroup.\n",
    "\n",
    "Key players in the sector were investigated for corruption last year after the government poured billions of dollars into projects which stalled or failed.\n",
    "\n",
    "Mr Zhao and Tsinghua Unigroup did not respond to BBC requests for comment.\n",
    "\n",
    "In a statement, the Central Commission for Discipline Inspection alleges that Mr Zhao \"took the state-owned company he managed as his private fiefdom.\"\n",
    "\n",
    "The regulator says he handed profitable businesses to his relatives and friends, and purchased goods and services from companies managed by his associates at \"prices significantly higher than the market\".\n",
    "\n",
    "Mr Zhao's case, it adds, has been handed to prosecutors who will file charges against him.\n",
    "\n",
    "The US is beating China in the battle for chips\n",
    "Why do Chinese billionaires keep vanishing?\n",
    "Tsinghua Unigroup was once a branch of the prestigious Tsinghua University, attended by President Xi Jinping.\n",
    "\n",
    "Over the last decade, the state-backed company made a series of acquisitions and emerged as one of China's leading chipmakers.\n",
    "\n",
    "However, it racked up debt under Mr Zhao's leadership and defaulted on several bond payments in 2020.\n",
    "\n",
    "The company completed a 20-month restructuring last July. This placed it under the control of a consortium led by two state-backed venture capital firms.\n",
    "\n",
    "Around that time, Mr Zhao stepped down as the chairman of Tsinghua Unigroup. Chinese media outlets reported that he had been taken from his home by authorities for investigation.\n",
    "\n",
    "Several other leading figures in the Chinese semiconductor industry have also been placed under investigation.\n",
    "\n",
    "Semiconductors, which power everything from mobile phones to military hardware, are at the centre of a bitter dispute between the US and China.\n",
    "\n",
    "In October, Washington announced that it would require licences for companies exporting chips to China using US tools or software, no matter where they were made in the world.\n",
    "\n",
    "Earlier this month, the Netherlands said it also planned to put restrictions on its \"most advanced\" microchip technology exports to protect national security.\n",
    "\n",
    "China has invested billions of dollars in recent years to build up its domestic chip-making capabilities.\n",
    "\n",
    "In 2019, the country set up a new national $29bn (£23.7bn) semiconductor fund to reduce its reliance on the West.\n",
    "\n",
    "\n",
    "\"\"\""
   ]
  },
  {
   "cell_type": "code",
   "execution_count": 72,
   "id": "e987b246-ca47-4644-ba6e-43fac2f30e4d",
   "metadata": {},
   "outputs": [],
   "source": [
    "# Преобразуем текст в списки предложений\n",
    "sentences = sent_tokenize(huge_text)"
   ]
  },
  {
   "cell_type": "code",
   "execution_count": 73,
   "id": "e55ae6fc-4097-412a-aaa9-2f37e40e6fc2",
   "metadata": {},
   "outputs": [],
   "source": [
    "# Auto tokenizer\n",
    "tokenizer = AutoTokenizer.from_pretrained(\"dslim/bert-base-NER\")\n",
    "model = AutoModelForTokenClassification.from_pretrained(\"dslim/bert-base-NER\")\n",
    "\n",
    "nlp = pipeline(\"ner\", model=model, tokenizer=tokenizer)\n",
    "\n",
    "tokens = []\n",
    "for sentence in sentences:\n",
    "    tokens += nlp(sentence)\n"
   ]
  },
  {
   "cell_type": "code",
   "execution_count": 74,
   "id": "60b05f1b-d045-4dfd-8fe7-c3f80c422c2a",
   "metadata": {},
   "outputs": [],
   "source": [
    "token_stats = {}\n",
    "for token in tokens:\n",
    "    if token[\"entity\"] in token_stats:\n",
    "        token_stats[token[\"entity\"]].append(token[\"word\"])\n",
    "    else:\n",
    "        token_stats[token[\"entity\"]] = [token[\"word\"]]\n",
    "        \n",
    "token_stats = {k:Counter(v) for k,v in token_stats.items()}"
   ]
  },
  {
   "cell_type": "code",
   "execution_count": 75,
   "id": "04aa68ca-0f29-42e2-8998-4d5607917887",
   "metadata": {},
   "outputs": [
    {
     "data": {
      "text/plain": [
       "{'B-LOC': Counter({'China': 6,\n",
       "          'US': 3,\n",
       "          'Washington': 1,\n",
       "          'Netherlands': 1,\n",
       "          'West': 1}),\n",
       " 'B-PER': Counter({'Zhao': 7, 'Xi': 1}),\n",
       " 'I-PER': Counter({'Wei': 1, '##gu': 1, 'Jin': 1, '##ping': 1}),\n",
       " 'B-ORG': Counter({'T': 5, '##sing': 3, 'BBC': 1, 'Central': 1}),\n",
       " 'I-ORG': Counter({'##hua': 5,\n",
       "          'Un': 4,\n",
       "          '##ig': 4,\n",
       "          '##roup': 4,\n",
       "          'Commission': 1,\n",
       "          'for': 1,\n",
       "          'Disc': 1,\n",
       "          '##ip': 1,\n",
       "          '##line': 1,\n",
       "          'In': 1,\n",
       "          '##spect': 1,\n",
       "          '##ion': 1,\n",
       "          '##sing': 2,\n",
       "          'University': 1}),\n",
       " 'B-MISC': Counter({'Chinese': 3})}"
      ]
     },
     "execution_count": 75,
     "metadata": {},
     "output_type": "execute_result"
    }
   ],
   "source": [
    "token_stats"
   ]
  },
  {
   "cell_type": "markdown",
   "id": "dea4ed4d-8b15-4141-b2cc-29b441aa4071",
   "metadata": {},
   "source": [
    "# FLAIR"
   ]
  },
  {
   "cell_type": "code",
   "execution_count": 76,
   "id": "592d5503-c8f1-4413-95a2-64976bb95ee5",
   "metadata": {},
   "outputs": [],
   "source": [
    "# from flair.splitter import SciSpacySentenceSplitter\n",
    "\n",
    "# # initialize the sentence splitter\n",
    "# splitter = SciSpacySentenceSplitter()\n",
    "\n",
    "# # split text into a list of Sentence objects\n",
    "# sentences = splitter.split(huge_text)\n",
    "\n",
    "# you can apply the HunFlair tagger directly to this list\n",
    "# tagger.predict(sentences)\n",
    "\n",
    "ner_tags = {}\n",
    "\n",
    "\n",
    "for sentence in sentences:\n",
    "    snt = Sentence(sentence)\n",
    "    tagger.predict(snt)\n",
    "    for _ in snt.get_labels():\n",
    "        key_tags = _.shortstring.split(r\"/\")\n",
    "        if key_tags[1] in ner_tags:\n",
    "            if key_tags[0] in ner_tags[key_tags[1]]:\n",
    "                ner_tags[key_tags[1]][key_tags[0]].append(sentence)\n",
    "            else:\n",
    "                ner_tags[key_tags[1]][key_tags[0]] = [sentence]\n",
    "                \n",
    "        else:\n",
    "            ner_tags[key_tags[1]] = {key_tags[0]: [sentence]}\n",
    "            \n",
    "\n",
    "    "
   ]
  },
  {
   "cell_type": "code",
   "execution_count": 77,
   "id": "7b2c4326-5ed1-4084-9ea9-937289c853ba",
   "metadata": {},
   "outputs": [
    {
     "data": {
      "text/plain": [
       "{'LOC': {'\"China\"': [\"\\nChina's anti-fraud watchdog has accused chip tycoon Zhao Weiguo of corruption, in the latest sign of trouble faced by the country's semiconductor industry.\",\n",
       "   'The US is beating China in the battle for chips\\nWhy do Chinese billionaires keep vanishing?',\n",
       "   \"Over the last decade, the state-backed company made a series of acquisitions and emerged as one of China's leading chipmakers.\",\n",
       "   'Semiconductors, which power everything from mobile phones to military hardware, are at the centre of a bitter dispute between the US and China.',\n",
       "   'In October, Washington announced that it would require licences for companies exporting chips to China using US tools or software, no matter where they were made in the world.',\n",
       "   'China has invested billions of dollars in recent years to build up its domestic chip-making capabilities.'],\n",
       "  '\"US\"': ['The US is beating China in the battle for chips\\nWhy do Chinese billionaires keep vanishing?',\n",
       "   'Semiconductors, which power everything from mobile phones to military hardware, are at the centre of a bitter dispute between the US and China.',\n",
       "   'In October, Washington announced that it would require licences for companies exporting chips to China using US tools or software, no matter where they were made in the world.'],\n",
       "  '\"Washington\"': ['In October, Washington announced that it would require licences for companies exporting chips to China using US tools or software, no matter where they were made in the world.'],\n",
       "  '\"Netherlands\"': ['Earlier this month, the Netherlands said it also planned to put restrictions on its \"most advanced\" microchip technology exports to protect national security.'],\n",
       "  '\"West\"': ['In 2019, the country set up a new national $29bn (£23.7bn) semiconductor fund to reduce its reliance on the West.']},\n",
       " 'PER': {'\"Zhao Weiguo\"': [\"\\nChina's anti-fraud watchdog has accused chip tycoon Zhao Weiguo of corruption, in the latest sign of trouble faced by the country's semiconductor industry.\"],\n",
       "  '\"Zhao\"': ['Mr Zhao is the former chairman of computer chipmaker Tsinghua Unigroup.',\n",
       "   'Mr Zhao and Tsinghua Unigroup did not respond to BBC requests for comment.',\n",
       "   'In a statement, the Central Commission for Discipline Inspection alleges that Mr Zhao \"took the state-owned company he managed as his private fiefdom.\"',\n",
       "   \"Mr Zhao's case, it adds, has been handed to prosecutors who will file charges against him.\",\n",
       "   \"However, it racked up debt under Mr Zhao's leadership and defaulted on several bond payments in 2020.\",\n",
       "   'Around that time, Mr Zhao stepped down as the chairman of Tsinghua Unigroup.'],\n",
       "  '\"Xi Jinping\"': ['Tsinghua Unigroup was once a branch of the prestigious Tsinghua University, attended by President Xi Jinping.']},\n",
       " 'ORG': {'\"Tsinghua Unigroup\"': ['Mr Zhao is the former chairman of computer chipmaker Tsinghua Unigroup.',\n",
       "   'Mr Zhao and Tsinghua Unigroup did not respond to BBC requests for comment.',\n",
       "   'Tsinghua Unigroup was once a branch of the prestigious Tsinghua University, attended by President Xi Jinping.',\n",
       "   'Around that time, Mr Zhao stepped down as the chairman of Tsinghua Unigroup.'],\n",
       "  '\"BBC\"': ['Mr Zhao and Tsinghua Unigroup did not respond to BBC requests for comment.'],\n",
       "  '\"Central Commission for Discipline Inspection\"': ['In a statement, the Central Commission for Discipline Inspection alleges that Mr Zhao \"took the state-owned company he managed as his private fiefdom.\"'],\n",
       "  '\"Tsinghua University\"': ['Tsinghua Unigroup was once a branch of the prestigious Tsinghua University, attended by President Xi Jinping.']},\n",
       " 'MISC': {'\"Chinese\"': ['The US is beating China in the battle for chips\\nWhy do Chinese billionaires keep vanishing?',\n",
       "   'Chinese media outlets reported that he had been taken from his home by authorities for investigation.',\n",
       "   'Several other leading figures in the Chinese semiconductor industry have also been placed under investigation.']}}"
      ]
     },
     "execution_count": 77,
     "metadata": {},
     "output_type": "execute_result"
    }
   ],
   "source": [
    "ner_tags"
   ]
  },
  {
   "cell_type": "code",
   "execution_count": 8,
   "id": "82379fa8-a448-46c4-aac6-8846d6249b24",
   "metadata": {},
   "outputs": [],
   "source": [
    "sentence = Sentence('(Reuters) — Kabbage Inc, a U.S. online lender for small businesses, said on Thursday it had raised $250 million in equity funding from SoftBank Group Corp, the latest fintech investment by the Japanese technology conglomerate.')\n",
    "tagger.predict(sentence)"
   ]
  },
  {
   "cell_type": "code",
   "execution_count": null,
   "id": "a0630196-9810-4916-b94b-b69b8f096222",
   "metadata": {},
   "outputs": [],
   "source": []
  }
 ],
 "metadata": {
  "kernelspec": {
   "display_name": "Python 3 (ipykernel)",
   "language": "python",
   "name": "python3"
  },
  "language_info": {
   "codemirror_mode": {
    "name": "ipython",
    "version": 3
   },
   "file_extension": ".py",
   "mimetype": "text/x-python",
   "name": "python",
   "nbconvert_exporter": "python",
   "pygments_lexer": "ipython3",
   "version": "3.10.6"
  }
 },
 "nbformat": 4,
 "nbformat_minor": 5
}
